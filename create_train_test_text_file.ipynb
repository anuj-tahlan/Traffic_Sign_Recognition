{
  "nbformat": 4,
  "nbformat_minor": 0,
  "metadata": {
    "colab": {
      "name": "create_train_test_text_file.ipynb",
      "provenance": []
    },
    "kernelspec": {
      "name": "python3",
      "display_name": "Python 3"
    },
    "language_info": {
      "name": "python"
    }
  },
  "cells": [
    {
      "cell_type": "code",
      "execution_count": null,
      "metadata": {
        "id": "_8oSwr9KEop1"
      },
      "outputs": [],
      "source": [
        "import os\n",
        "import zipfile\n",
        "import pandas as pd\n",
        "import cv2"
      ]
    },
    {
      "cell_type": "code",
      "source": [
        "from google.colab import drive\n",
        "drive.mount('/content/gdrive')"
      ],
      "metadata": {
        "id": "kiCMNxoFEqzP"
      },
      "execution_count": null,
      "outputs": []
    },
    {
      "cell_type": "code",
      "source": [
        "%cd 'gdrive/' \n",
        "#cd command is used to change the directory "
      ],
      "metadata": {
        "id": "fEKrvUNVEsRX"
      },
      "execution_count": null,
      "outputs": []
    },
    {
      "cell_type": "code",
      "source": [
        "#Navigate to ts folder\n",
        "if os.getcwd() == '/content':\n",
        "  %cd '/content/gdrive/'\n",
        "if os.getcwd() == '/content/gdrive':\n",
        "  %cd '/content/gdrive/MyDrive/' \n",
        "if os.getcwd() == '/content/gdrive/MyDrive':\n",
        "  %cd 'Traffic_Sign_Detection_YOLOv4/' \n",
        "if os.getcwd() == '/content/gdrive/MyDrive/Traffic_Sign_Detection_YOLOv4':\n",
        "  %cd 'ts/' \n",
        "print(\"Current working directory is now:\")\n",
        "print(os.getcwd())"
      ],
      "metadata": {
        "id": "lusHImmSEvh0"
      },
      "execution_count": null,
      "outputs": []
    },
    {
      "cell_type": "code",
      "source": [
        "#give path to ts folder\n",
        "full_path_to_images = os.getcwd(); #make sure current working directory is ts "
      ],
      "metadata": {
        "id": "QuHwLQKhFDOO"
      },
      "execution_count": null,
      "outputs": []
    },
    {
      "cell_type": "code",
      "source": [
        "# Defining list to write paths in\n",
        "p = []"
      ],
      "metadata": {
        "id": "Xbw_qC_8FYaN"
      },
      "execution_count": null,
      "outputs": []
    },
    {
      "cell_type": "code",
      "source": [
        "# Using os.walk for going through all directories\n",
        "# and files in them from the current directory\n",
        "# Fullstop in os.walk('.') means the current directory\n",
        "for current_dir, dirs, files in os.walk('.'):\n",
        "    # Going through all files\n",
        "    for f in files:\n",
        "        # Checking if filename ends with '.jpg'\n",
        "        if f.endswith('.jpg'):\n",
        "            # Preparing path to save into train.txt file\n",
        "            # Pay attention!\n",
        "            # If you're using Windows system offline Jupyter Notebook and not Google Colab, it might need to change\n",
        "            # this: + '/' +\n",
        "            # to this: + '\\' +\n",
        "            # or to this: + '\\\\' +\n",
        "            path_to_save_into_txt_files = full_path_to_images + '/' + f\n",
        "\n",
        "            # Appending the line into the list\n",
        "            # We use here '\\n' to move to the next line\n",
        "            # when writing lines into txt files\n",
        "            p.append(path_to_save_into_txt_files + '\\n')"
      ],
      "metadata": {
        "id": "-vZA-q2fFeO3"
      },
      "execution_count": null,
      "outputs": []
    },
    {
      "cell_type": "code",
      "source": [
        "# Slicing first 15% of elements from the list\n",
        "# to write into the test.txt file\n",
        "p_test = p[:int(len(p) * 0.15)]\n",
        "\n",
        "# Deleting from initial list first 15% of elements\n",
        "p = p[int(len(p) * 0.15):]"
      ],
      "metadata": {
        "id": "cLpa8szGFngt"
      },
      "execution_count": null,
      "outputs": []
    },
    {
      "cell_type": "markdown",
      "source": [
        "**Creating train.txt and test.txt files**"
      ],
      "metadata": {
        "id": "nLtUK8FvFyHT"
      }
    },
    {
      "cell_type": "code",
      "source": [
        "# Creating file train.txt and writing 85% of lines in it\n",
        "with open('train.txt', 'w') as train_txt:\n",
        "    # Going through all elements of the list\n",
        "    for e in p:\n",
        "        # Writing current path at the end of the file\n",
        "        train_txt.write(e)"
      ],
      "metadata": {
        "id": "FpWxItOCFqFA"
      },
      "execution_count": null,
      "outputs": []
    },
    {
      "cell_type": "code",
      "source": [
        "# Creating file test.txt and writing 15% of lines in it\n",
        "with open('test.txt', 'w') as test_txt:\n",
        "    # Going through all elements of the list\n",
        "    for e in p_test:\n",
        "        # Writing current path at the end of the file\n",
        "        test_txt.write(e)"
      ],
      "metadata": {
        "id": "THZOAGKbF2Fq"
      },
      "execution_count": null,
      "outputs": []
    }
  ]
}