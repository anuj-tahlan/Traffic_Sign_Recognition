{
  "nbformat": 4,
  "nbformat_minor": 0,
  "metadata": {
    "colab": {
      "name": "Testing_Model_Traffic_Sign_Detection_Using_Yolo.ipynb",
      "provenance": [],
      "collapsed_sections": []
    },
    "kernelspec": {
      "name": "python3",
      "display_name": "Python 3"
    },
    "language_info": {
      "name": "python"
    },
    "accelerator": "GPU",
    "gpuClass": "standard"
  },
  "cells": [
    {
      "cell_type": "code",
      "source": [
        "# Name - Anuj Kumar Tahlan\n",
        "# Student ID - 21252775\n",
        "# Maynooth University, Ireland \n",
        "# Msc. Computer Science (Software Engineering)\n",
        "# Session 2021-2022\n"
      ],
      "metadata": {
        "id": "1YJGo501Kn_I"
      },
      "execution_count": null,
      "outputs": []
    },
    {
      "cell_type": "code",
      "source": [
        "# Project - Traffic Sign Recognition : \n",
        "# This is Part 1(b) of the Project: It is called, Traffic Sign Detection ( Testing the Trained Model )\n",
        "# If you want to train the model and then test, refer to my code in Part 1(a). Link provided below.\n",
        "\n",
        "#Repository Link for all files - https://github.com/anuj-tahlan/Traffic_Sign_Recognition.git\n",
        "\n",
        "# Other Parts of this Project :\n",
        "# Part 1 (a) of the Project - Traffic Sign Detection ( Detecting traffic signs from real traffic scenes )\n",
        "# code file name - Traffic_Sign_Detection_Using_Yolo(Training and Testing).ipynb\n",
        "\n",
        "# Part 2(a) of the Project - Traffic Sign Classification full code (Training and Testing)\n",
        "# code file name - Traffic_Signal_Classification(Training and Testing).ipynb\n",
        "\n",
        "# Part 2(b) of the Project - Traffic Sign Classification (Testing the Trained Model)\n",
        "# code file - Traffic_Signal_Classification(Training and Testing).ipynb"
      ],
      "metadata": {
        "id": "kiwMJEqGK4gL"
      },
      "execution_count": null,
      "outputs": []
    },
    {
      "cell_type": "code",
      "source": [
        "# Traffic Sign Detection model can only detect and categorise the traffic signs in one of the four major classes.\n",
        "# Prohibitory , Danger , Mandatory and others.\n",
        "# To sub classify the classes into one of the 43 subclasses such as speed limit 20km/h, left turn ahead, No entry etc,\n",
        "# Refer to the Part 2(a) and Part 2(b) of the Project.\n",
        "# The idea is once the traffic signs are detected,from the original image, \n",
        "# they are then cropped out and fed as input to the classification model. The transition is however not shown in this project, that is a future scope.\n",
        "# Thus, to test the classification model, manually cropped traffic signs must be used and for Detecting any traffic scene with traffic sign from one of the 4 classes must be provided or a sign (cropped sign directly) can also be provided."
      ],
      "metadata": {
        "id": "0_LzRDdwZu19"
      },
      "execution_count": null,
      "outputs": []
    },
    {
      "cell_type": "code",
      "execution_count": 1,
      "metadata": {
        "id": "DYHNXdJawtqk"
      },
      "outputs": [],
      "source": [
        "#Import required Libraries\n",
        "import os\n",
        "import zipfile\n",
        "import pandas as pd\n",
        "import cv2"
      ]
    },
    {
      "cell_type": "code",
      "source": [
        "import shutil "
      ],
      "metadata": {
        "id": "xntPCsSOdmPU"
      },
      "execution_count": 24,
      "outputs": []
    },
    {
      "cell_type": "code",
      "source": [
        "path = '/content/Testing_Traffic_Sign_Detection'\n",
        "isdir = os.path.isdir(path) \n",
        "if not isdir: #If directory is not present \n",
        "  os.mkdir('/content/Testing_Traffic_Sign_Detection')"
      ],
      "metadata": {
        "id": "xJdII9e7B3G6"
      },
      "execution_count": 2,
      "outputs": []
    },
    {
      "cell_type": "code",
      "source": [
        "%cd '/content/Testing_Traffic_Sign_Detection'"
      ],
      "metadata": {
        "colab": {
          "base_uri": "https://localhost:8080/"
        },
        "id": "36AXuf56E8Q7",
        "outputId": "01fd0eab-6548-4511-f599-adb17a64308a"
      },
      "execution_count": 3,
      "outputs": [
        {
          "output_type": "stream",
          "name": "stdout",
          "text": [
            "/content/Testing_Traffic_Sign_Detection\n"
          ]
        }
      ]
    },
    {
      "cell_type": "code",
      "source": [
        "#Run below line of code to download Required Files (classes.names) from source(My dropbox Account)\n",
        "!curl -LOC - https://www.dropbox.com/s/an1fp4qy9slgolg/Required_Files.zip"
      ],
      "metadata": {
        "id": "U8nwuCZ_F44n"
      },
      "execution_count": 4,
      "outputs": []
    },
    {
      "cell_type": "code",
      "source": [
        "import zipfile\n",
        "unzip = zipfile.ZipFile('Required_Files.zip')\n",
        "unzip.extractall('Required_Files')"
      ],
      "metadata": {
        "id": "u74I-TxBGb0x"
      },
      "execution_count": 6,
      "outputs": []
    },
    {
      "cell_type": "code",
      "source": [
        "#Run below line of code to download trained weights from source(My dropbox Account)\n",
        "!curl -LOC - https://www.dropbox.com/s/pxcp2udk4mqqcin/yolov4_ts_train_7000.weights"
      ],
      "metadata": {
        "id": "mD-63Eg7FE5f"
      },
      "execution_count": 5,
      "outputs": []
    },
    {
      "cell_type": "code",
      "source": [
        "# Download and Import Testing Images Folder \n",
        "!curl -LOC - https://www.dropbox.com/s/ttgnti691mr5tzg/TSD_Testing_Images_Videos.zip"
      ],
      "metadata": {
        "id": "qlm13o6HZgPi"
      },
      "execution_count": 6,
      "outputs": []
    },
    {
      "cell_type": "code",
      "source": [
        "import zipfile\n",
        "unzip = zipfile.ZipFile('TSD_Testing_Images_Videos.zip')\n",
        "unzip.extractall('TSD_Testing_Images_Videos')"
      ],
      "metadata": {
        "id": "Ofgy1GkjZnqx"
      },
      "execution_count": 8,
      "outputs": []
    },
    {
      "cell_type": "code",
      "source": [
        "#Either download the darknet folder from Github and upload to Google Colab, in that case do not run below command\n",
        "#Or run below line of code to download darknet folder which will be used for testing the model \n",
        "!curl -LOC - https://www.dropbox.com/s/sbyik9ci902l2qs/darknet.zip"
      ],
      "metadata": {
        "colab": {
          "base_uri": "https://localhost:8080/"
        },
        "id": "tqPniQldGE7O",
        "outputId": "9744bbd5-a6df-4a18-fc51-a68fa1547188"
      },
      "execution_count": 9,
      "outputs": [
        {
          "output_type": "stream",
          "name": "stdout",
          "text": [
            "  % Total    % Received % Xferd  Average Speed   Time    Time     Time  Current\n",
            "                                 Dload  Upload   Total   Spent    Left  Speed\n",
            "100   136    0   136    0     0    550      0 --:--:-- --:--:-- --:--:--   550\n",
            "100   340  100   340    0     0    619      0 --:--:-- --:--:-- --:--:--   619\n",
            "100   534    0   534    0     0    666      0 --:--:-- --:--:-- --:--:--  3068\n",
            "100  146M  100  146M    0     0  41.5M      0  0:00:03  0:00:03 --:--:-- 76.3M\n"
          ]
        }
      ]
    },
    {
      "cell_type": "code",
      "source": [
        "import zipfile\n",
        "unzip = zipfile.ZipFile('darknet.zip')\n",
        "unzip.extractall('darknet')"
      ],
      "metadata": {
        "id": "r5EdWuXRQaM8"
      },
      "execution_count": 10,
      "outputs": []
    },
    {
      "cell_type": "code",
      "source": [
        "pwd"
      ],
      "metadata": {
        "colab": {
          "base_uri": "https://localhost:8080/",
          "height": 35
        },
        "id": "yWUxVP1EQq5F",
        "outputId": "054631cd-235c-4fd8-a8a0-1fa19ef900fb"
      },
      "execution_count": 11,
      "outputs": [
        {
          "output_type": "execute_result",
          "data": {
            "text/plain": [
              "'/content/Testing_Traffic_Sign_Detection'"
            ],
            "application/vnd.google.colaboratory.intrinsic+json": {
              "type": "string"
            }
          },
          "metadata": {},
          "execution_count": 11
        }
      ]
    },
    {
      "cell_type": "code",
      "source": [
        "%cd darknet"
      ],
      "metadata": {
        "colab": {
          "base_uri": "https://localhost:8080/"
        },
        "id": "7ul8srTBUEHa",
        "outputId": "86b2bbd8-5fff-4add-b20c-796a6e47cd53"
      },
      "execution_count": 12,
      "outputs": [
        {
          "output_type": "stream",
          "name": "stdout",
          "text": [
            "/content/Testing_Traffic_Sign_Detection/darknet\n"
          ]
        }
      ]
    },
    {
      "cell_type": "code",
      "source": [
        "!sed -i 's/OPENCV=0/OPENCV=1/' Makefile\n",
        "!sed -i 's/GPU=0/GPU=1/' Makefile\n",
        "!sed -i 's/CUDNN=0/CUDNN=1/' Makefile\n",
        "!sed -i 's/CUDNN_HALF=0/CUDNN_HALF=1/' Makefile\n",
        "!sed -i 's/LIBSO=0/LIBSO=1/' Makefile"
      ],
      "metadata": {
        "id": "XrWuhMANQUHB"
      },
      "execution_count": 13,
      "outputs": []
    },
    {
      "cell_type": "code",
      "source": [
        "!make"
      ],
      "metadata": {
        "id": "-iKDWSMCUJPx"
      },
      "execution_count": 2,
      "outputs": []
    },
    {
      "cell_type": "code",
      "source": [
        "#Make darknet directory executable \n",
        "!chmod +x ./darknet"
      ],
      "metadata": {
        "id": "dmd3Ec0kUOLS"
      },
      "execution_count": 15,
      "outputs": []
    },
    {
      "cell_type": "code",
      "source": [
        "path = '/content/Testing_Traffic_Sign_Detection/Output_Results'\n",
        "isdir = os.path.isdir(path) \n",
        "if not isdir: #If directory is not present \n",
        "  os.mkdir('/content/Testing_Traffic_Sign_Detection/Output_Results')"
      ],
      "metadata": {
        "id": "mGT-V7cUhC6h"
      },
      "execution_count": null,
      "outputs": []
    },
    {
      "cell_type": "code",
      "source": [
        "#For Image\n",
        "img_path = \"/content/Testing_Traffic_Sign_Detection/TSD_Testing_Images_Videos/Testing_Images/testingImage2.png\"\n",
        "weight_file_path = '/content/Testing_Traffic_Sign_Detection/yolov4_ts_train_7000.weights'\n",
        "outputFolder='/content/Testing_Traffic_Sign_Detection/Output_Results'\n",
        "!./darknet detector test cfg/ts_data.data cfg/yolov4_ts_test.cfg {weight_file_path} {img_path} -out_filename {outputFolder}data/x -dont-show\n",
        "\n",
        "#Now copy the predicted results to output Results folder\n",
        "source = '/content/Testing_Traffic_Sign_Detection/darknet/predictions.jpg'\n",
        "destination = '/content/Testing_Traffic_Sign_Detection/Output_Results'\n",
        "shutil.copy2(source,destination)"
      ],
      "metadata": {
        "id": "IObc-focUadR"
      },
      "execution_count": 1,
      "outputs": []
    },
    {
      "cell_type": "code",
      "source": [
        "#Displays the tested image\n",
        "import matplotlib.pyplot as plt \n",
        "fig = plt.figure(figsize=(12,12))\n",
        "plt.axis(False)\n",
        "processed_image = plt.imread(\"./predictions.jpg\")\n",
        "plt.imshow(processed_image)"
      ],
      "metadata": {
        "id": "9A0Ap3CGf9bs"
      },
      "execution_count": null,
      "outputs": []
    },
    {
      "cell_type": "markdown",
      "source": [
        "Testing Video Results"
      ],
      "metadata": {
        "id": "imZadoWlbHBO"
      }
    },
    {
      "cell_type": "code",
      "source": [
        "path = '/content/Testing_Traffic_Sign_Detection/Output_Results'\n",
        "isdir = os.path.isdir(path) \n",
        "if not isdir: #If directory is not present \n",
        "  os.mkdir('/content/Testing_Traffic_Sign_Detection/Output_Results')"
      ],
      "metadata": {
        "id": "AGk05dEzbPYO"
      },
      "execution_count": 18,
      "outputs": []
    },
    {
      "cell_type": "code",
      "source": [
        "video_path = \"/content/Testing_Traffic_Sign_Detection/TSD_Testing_Images_Videos/Testing_Video/video.mp4\"\n",
        "outputFolder='/content/Testing_Traffic_Sign_Detection/Output_Results'\n",
        "weight_file_path = '/content/Testing_Traffic_Sign_Detection/yolov4_ts_train_7000.weights'\n",
        "!./darknet detector demo cfg/ts_data.data cfg/yolov4_ts_test.cfg {weight_file_path} {video_path} -out_filename {outputFolder}data/results1.avi -dont_show"
      ],
      "metadata": {
        "id": "henptKtVbFdF"
      },
      "execution_count": 3,
      "outputs": []
    }
  ]
}