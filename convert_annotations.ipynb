{
  "nbformat": 4,
  "nbformat_minor": 0,
  "metadata": {
    "colab": {
      "name": "convert-annotations.ipynb",
      "provenance": []
    },
    "kernelspec": {
      "name": "python3",
      "display_name": "Python 3"
    },
    "language_info": {
      "name": "python"
    }
  },
  "cells": [
    {
      "cell_type": "code",
      "source": [
        "import os\n",
        "import zipfile\n",
        "import pandas as pd\n",
        "import cv2"
      ],
      "metadata": {
        "id": "hsv0yCNIxT-O"
      },
      "execution_count": 16,
      "outputs": []
    },
    {
      "cell_type": "code",
      "execution_count": 1,
      "metadata": {
        "colab": {
          "base_uri": "https://localhost:8080/"
        },
        "id": "dM4QPkbv_h5Z",
        "outputId": "8cad2df0-e18f-496c-ddcf-56bb88f4af31"
      },
      "outputs": [
        {
          "output_type": "stream",
          "name": "stdout",
          "text": [
            "Mounted at /content/gdrive\n"
          ]
        }
      ],
      "source": [
        "from google.colab import drive\n",
        "drive.mount('/content/gdrive')"
      ]
    },
    {
      "cell_type": "code",
      "source": [
        "%cd 'gdrive/' \n",
        "#cd command is used to change the directory "
      ],
      "metadata": {
        "colab": {
          "base_uri": "https://localhost:8080/"
        },
        "id": "rR5n_xjLuuZe",
        "outputId": "a9aef0fb-af79-4e91-ab8e-8629b952728c"
      },
      "execution_count": 8,
      "outputs": [
        {
          "output_type": "stream",
          "name": "stdout",
          "text": [
            "[Errno 2] No such file or directory: 'gdrive/'\n",
            "/content/gdrive\n"
          ]
        }
      ]
    },
    {
      "cell_type": "code",
      "source": [
        "#If the following path does not exist create it.\n",
        "path = '/content/gdrive/MyDrive/Traffic_Sign_Detection_YOLOv4' # Set(folder) Traffic_Sign_Detection inside Google Drive\n",
        "isdir = os.path.isdir(path) \n",
        "if not isdir: #If directory is not present \n",
        "  os.mkdir('/content/gdrive/MyDrive/Traffic_Sign_Detection_YOLOv4') # make the directory (folder)\n",
        "else:\n",
        "  print(\"Folder already exist\")"
      ],
      "metadata": {
        "colab": {
          "base_uri": "https://localhost:8080/"
        },
        "id": "3RPv01uCu3Fb",
        "outputId": "84cc9a0b-64e4-458a-d50d-d93249664b8a"
      },
      "execution_count": 11,
      "outputs": [
        {
          "output_type": "stream",
          "name": "stdout",
          "text": [
            "already exist\n"
          ]
        }
      ]
    },
    {
      "cell_type": "code",
      "source": [
        "if os.getcwd() == '/content':\n",
        "  %cd '/content/gdrive/'\n",
        "if os.getcwd() == '/content/gdrive':\n",
        "  %cd '/content/gdrive/MyDrive/' \n",
        "if os.getcwd() == '/content/gdrive/MyDrive':\n",
        "  %cd 'Traffic_Sign_Detection_YOLOv4/' \n",
        "print(\"Current working directory is now:\")\n",
        "print(os.getcwd())"
      ],
      "metadata": {
        "colab": {
          "base_uri": "https://localhost:8080/"
        },
        "id": "KedkO7Got-Ct",
        "outputId": "f0dd7f72-d322-4631-f09c-6c402b1b966b"
      },
      "execution_count": 15,
      "outputs": [
        {
          "output_type": "stream",
          "name": "stdout",
          "text": [
            "/content/gdrive/MyDrive\n",
            "/content/gdrive/MyDrive/Traffic_Sign_Detection_YOLOv4\n",
            "Current working directory is now:\n",
            "/content/gdrive/MyDrive/Traffic_Sign_Detection_YOLOv4\n"
          ]
        }
      ]
    },
    {
      "cell_type": "code",
      "source": [
        "#As the ts.zip folder size is big so it cannot be uploaded to github.\n",
        "#It is already present in the Dataset downloaded. Upload the zip file (ts.zip) to google drive inside Traffic_Sign_Detection_YOLOv4 folder\n",
        "#Now unzip the folder. Uncomment below lines to run the code. Only do it once if ts folder already extracted do not do it.\n",
        "unzip = zipfile.ZipFile('ts.zip')\n",
        "unzip.extractall('ts')"
      ],
      "metadata": {
        "id": "oX4ve81kysZV"
      },
      "execution_count": null,
      "outputs": []
    },
    {
      "cell_type": "code",
      "source": [
        "full_path_to_ts_dataset = '/content/gdrive/MyDrive/Traffic_Sign_Detection_YOLOv4/ts' #set path to ts folder"
      ],
      "metadata": {
        "id": "poDf8iuFvIPw"
      },
      "execution_count": null,
      "outputs": []
    },
    {
      "cell_type": "code",
      "source": [
        "# Defining lists for categories according to the classes ID's\n",
        "# Prohibitory category:\n",
        "# circular Traffic Signs with white background and red border line\n",
        "p = [0, 1, 2, 3, 4, 5, 7, 8, 9, 10, 15, 16] #Here p stands for prohibitory\n",
        "\n",
        "# Danger category:\n",
        "# triangular Traffic Signs with white background and red border line\n",
        "d = [11, 18, 19, 20, 21, 22, 23, 24, 25, 26, 27, 28, 29, 30, 31]\n",
        "\n",
        "# Mandatory category:\n",
        "# circular Traffic Signs with blue background\n",
        "m = [33, 34, 35, 36, 37, 38, 39, 40]\n",
        "\n",
        "# Other category:\n",
        "o = [6, 12, 13, 14, 17, 32, 41, 42]"
      ],
      "metadata": {
        "id": "FoARKhB0zqqd"
      },
      "execution_count": null,
      "outputs": []
    },
    {
      "cell_type": "code",
      "source": [
        "#Loading original annotations into Pandas dataFrame\n",
        "# Reading txt file with annotations separated by semicolons\n",
        "# If you're using Windows system offline Jupyter Notebook and not Google Colab, it might need to change\n",
        "# this: + '/' +\n",
        "# to this: + '\\' +\n",
        "# or to this: + '\\\\' +\n",
        "ann = pd.read_csv(full_path_to_ts_dataset + '/' + 'gt.txt',\n",
        "                  names=['ImageID',\n",
        "                         'XMin',\n",
        "                         'YMin',\n",
        "                         'XMax',\n",
        "                         'YMax',\n",
        "                         'ClassID'],\n",
        "                  sep=';')"
      ],
      "metadata": {
        "id": "NRdMSCPe0S5w"
      },
      "execution_count": null,
      "outputs": []
    },
    {
      "cell_type": "code",
      "source": [
        "#Calculating numbers for YOLO format without normalization\n",
        "#Adding new empty columns to dataFrame to save numbers for YOLO format\n",
        "ann['CategoryID'] = ''\n",
        "ann['center x'] = ''\n",
        "ann['center y'] = ''\n",
        "ann['width'] = ''\n",
        "ann['height'] = ''"
      ],
      "metadata": {
        "id": "fLOy3nBi1s6h"
      },
      "execution_count": null,
      "outputs": []
    },
    {
      "cell_type": "code",
      "source": [
        "# Getting category's ID according to the class's ID\n",
        "# Writing numbers into appropriate column\n",
        "ann.loc[ann['ClassID'].isin(p), 'CategoryID'] = 0\n",
        "ann.loc[ann['ClassID'].isin(d), 'CategoryID'] = 1\n",
        "ann.loc[ann['ClassID'].isin(m), 'CategoryID'] = 2\n",
        "ann.loc[ann['ClassID'].isin(o), 'CategoryID'] = 3\n"
      ],
      "metadata": {
        "id": "HxRiyTH91x2q"
      },
      "execution_count": null,
      "outputs": []
    },
    {
      "cell_type": "code",
      "source": [
        "#Calculating bounding box's center in x and y for all rows\n",
        "# Saving results to appropriate columns\n",
        "ann['center x'] = (ann['XMax'] + ann['XMin']) / 2\n",
        "ann['center y'] = (ann['YMax'] + ann['YMin']) / 2\n",
        "\n",
        "# Calculating bounding box's width and height for all rows\n",
        "# Saving results to appropriate columns\n",
        "ann['width'] = ann['XMax'] - ann['XMin']\n",
        "ann['height'] = ann['YMax'] - ann['YMin']"
      ],
      "metadata": {
        "id": "6dE9T4Vi11l5"
      },
      "execution_count": null,
      "outputs": []
    },
    {
      "cell_type": "code",
      "source": [
        "#Getting Pandas dataFrame that has only needed columns\n",
        "# By using 'loc' method we locate here all rows\n",
        "# but only specified columns\n",
        "# By using copy() we create separate dataFrame\n",
        "# not just a reference to the previous one\n",
        "# and, in this way, initial dataFrame will not be changed\n",
        "r = ann.loc[:, ['ImageID',\n",
        "                'CategoryID',\n",
        "                'center x',\n",
        "                'center y',\n",
        "                'width',\n",
        "                'height']].copy()"
      ],
      "metadata": {
        "id": "i4Vi2_dV12MQ"
      },
      "execution_count": null,
      "outputs": []
    },
    {
      "cell_type": "code",
      "source": [
        "# Normalizing YOLO numbers according to the real image width and height\n",
        "# Saving annotations in txt files\n",
        "# Converting images from ppm to jpg"
      ],
      "metadata": {
        "id": "1-TEbpn-19_F"
      },
      "execution_count": null,
      "outputs": []
    },
    {
      "cell_type": "code",
      "source": [
        "os.chdir(full_path_to_ts_dataset) # Changing the current directory\n",
        "# to ts folder that contain images"
      ],
      "metadata": {
        "id": "AlnrhprU1_mr"
      },
      "execution_count": null,
      "outputs": []
    },
    {
      "cell_type": "code",
      "source": [
        "# Checking if the current directory is now ts folder\n",
        "# print(os.getcwd())"
      ],
      "metadata": {
        "id": "e8KWt0HX2P9b"
      },
      "execution_count": null,
      "outputs": []
    },
    {
      "cell_type": "code",
      "source": [
        "# Using os.walk for going through all directories\n",
        "# and files in them from the current directory\n",
        "# Fullstop in os.walk('.') means the current directory\n",
        "for current_dir, dirs, files in os.walk('.'):\n",
        "    # Going through all files\n",
        "    for f in files:\n",
        "        # Checking if filename ends with '.ppm'\n",
        "        if f.endswith('.ppm'):\n",
        "            # Reading image and getting its real width and height\n",
        "            image_ppm = cv2.imread(f)\n",
        "\n",
        "            # Slicing from tuple only first two elements\n",
        "            h, w = image_ppm.shape[:2]\n",
        "\n",
        "            # Slicing only name of the file without extension\n",
        "            image_name = f[:-4]\n",
        "\n",
        "            # Getting Pandas dataFrame that has only needed rows\n",
        "            # By using 'loc' method we locate needed rows\n",
        "            # that satisfies condition 'classes['ImageID'] == f'\n",
        "            # that is 'find from the 1st column element that is equal to f'\n",
        "            # By using copy() we create separate dataFrame\n",
        "            # not just a reference to the previous one\n",
        "            # and, in this way, initial dataFrame will not be changed\n",
        "            sub_r = r.loc[r['ImageID'] == f].copy()\n",
        "\n",
        "            # Normalizing calculated bounding boxes' coordinates\n",
        "            # according to the real image width and height\n",
        "            sub_r['center x'] = sub_r['center x'] / w\n",
        "            sub_r['center y'] = sub_r['center y'] / h\n",
        "            sub_r['width'] = sub_r['width'] / w\n",
        "            sub_r['height'] = sub_r['height'] / h\n",
        "\n",
        "            # Getting resulted Pandas dataFrame that has only needed columns\n",
        "            # By using 'loc' method we locate here all rows\n",
        "            # but only specified columns\n",
        "            # By using copy() we create separate dataFrame\n",
        "            # not just a reference to the previous one\n",
        "            # and, in this way, initial dataFrame will not be changed\n",
        "            resulted_frame = sub_r.loc[:, ['CategoryID',\n",
        "                                           'center x',\n",
        "                                           'center y',\n",
        "                                           'width',\n",
        "                                           'height']].copy()\n",
        "\n",
        "            # Checking if there is no any annotations for current image\n",
        "            if resulted_frame.isnull().values.all():\n",
        "                # Skipping this image\n",
        "                continue\n",
        "\n",
        "            # Preparing path where to save txt file\n",
        "            # Pay attention! If you're using Windows, it might need to change\n",
        "            # this: + '/' +\n",
        "            # to this: + '\\' +\n",
        "            # or to this: + '\\\\' +\n",
        "            path_to_save = full_path_to_ts_dataset + '/' + image_name + '.txt'\n",
        "\n",
        "            # Saving resulted Pandas dataFrame into txt file\n",
        "            resulted_frame.to_csv(path_to_save, header=False, index=False, sep=' ')\n",
        "\n",
        "            # Preparing path where to save jpg image\n",
        "            # Pay attention! If you're using Windows, it might need to change\n",
        "            # this: + '/' +\n",
        "            # to this: + '\\' +\n",
        "            # or to this: + '\\\\' +\n",
        "            path_to_save = full_path_to_ts_dataset + '/' + image_name + '.jpg'\n",
        "\n",
        "            # Saving image in jpg format by OpenCV function\n",
        "            # that uses extension to choose format to save with\n",
        "            cv2.imwrite(path_to_save, image_ppm)"
      ],
      "metadata": {
        "id": "D-ZTKYkH2XBw"
      },
      "execution_count": null,
      "outputs": []
    }
  ]
}