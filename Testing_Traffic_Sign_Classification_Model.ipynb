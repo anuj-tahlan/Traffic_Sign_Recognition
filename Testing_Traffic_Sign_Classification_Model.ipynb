{
  "nbformat": 4,
  "nbformat_minor": 0,
  "metadata": {
    "colab": {
      "name": "Testing_Traffic_Sign_Classification_Model.ipynb",
      "provenance": [],
      "collapsed_sections": []
    },
    "kernelspec": {
      "name": "python3",
      "display_name": "Python 3"
    },
    "language_info": {
      "name": "python"
    }
  },
  "cells": [
    {
      "cell_type": "code",
      "source": [
        "# Name - Anuj Kumar Tahlan\n",
        "# Student ID - 21252775\n",
        "# Maynooth University, \n",
        "# Msc. Computer Science (Software Engineering)\n",
        "# Session 2021-2022"
      ],
      "metadata": {
        "id": "IeSS2ItbMjrQ"
      },
      "execution_count": null,
      "outputs": []
    },
    {
      "cell_type": "code",
      "source": [
        "# Project - Traffic Sign Recognition (Contains two subparts: Detection and Classification)\n",
        "# This is Part 2(b) of the Project. It is called, Traffic Sign Classification (Testing Code )\n",
        "# Note- I have already trained the CNN model for traffic sign classification. \n",
        "# This code is only for testing the traffic sign classification mode.\n",
        "# However, If you want to both train and test the model.\n",
        "# Complete code for Traffic sign classification (Both Training and Testing) can be found in Part 2a (link provided below):\n",
        "\n",
        "#Repository Link for all files - https://github.com/anuj-tahlan/Traffic_Sign_Recognition.git\n",
        "# Other Parts of this Project :\n",
        "# Part 1 (a) of the Project - Traffic Sign Detection ( Detecting traffic signs from real traffic scenes )\n",
        "# code file name - Traffic_Sign_Detection_Using_Yolo(Training and Testing).ipynb\n",
        "\n",
        "# Part 1(b) of the Project - Testing Traffic Sign Detection (Testing the Trained Model)\n",
        "# code file name - Testing_Model_Traffic_Sign_Detection_Using_Yolo.ipynb\n",
        "\n",
        "# Part 2(a) of the Project - Traffic Sign Classification full code (Training and Testing)\n",
        "# code file name - Traffic_Signal_Classification(Training and Testing).ipynb"
      ],
      "metadata": {
        "id": "-TvmqyBUMjHh"
      },
      "execution_count": null,
      "outputs": []
    },
    {
      "cell_type": "code",
      "source": [
        "# Traffic Sign Classification Model can only predict traffic signs which are already detected.\n",
        "# There is a separate model for Detecting the images from the traffic scene. The idea is once the traffic signs are detected,\n",
        "# from the original image, they are then cropped out and fed as input to the classification model.\n",
        "# However in this project I have note created the transition from detection model to classification model, which is future scope of this Project.\n",
        "# Thus, to test the classification model, manually cropped traffic signs must be used. \n",
        "# Note the image used for testing classification model should only contain a traffic sign.\n",
        "# If the original image is a traffic scene crop that image and only extract the single traffic sign to be tested."
      ],
      "metadata": {
        "id": "qye4mks0UEbp"
      },
      "execution_count": null,
      "outputs": []
    },
    {
      "cell_type": "code",
      "source": [
        "import numpy as np \n",
        "import pandas as pd \n",
        "import matplotlib.pyplot as plt\n",
        "import cv2\n",
        "import tensorflow as tf\n",
        "import zipfile\n",
        "from PIL import Image\n",
        "import os\n",
        "from sklearn.model_selection import train_test_split\n",
        "from tensorflow.keras.utils import to_categorical\n",
        "from keras.models import Sequential, load_model\n",
        "from keras.layers import Conv2D, MaxPool2D, Dense, Flatten, Dropout"
      ],
      "metadata": {
        "id": "kVmH-GDh1buK"
      },
      "execution_count": 1,
      "outputs": []
    },
    {
      "cell_type": "code",
      "source": [
        "path = '/content/Testing_Traffic_Sign_Classification'\n",
        "isdir = os.path.isdir(path) \n",
        "if not isdir: #If directory is not present \n",
        "  os.mkdir('/content/Testing_Traffic_Sign_Classification')"
      ],
      "metadata": {
        "id": "LxaPOq857AqU"
      },
      "execution_count": 2,
      "outputs": []
    },
    {
      "cell_type": "code",
      "source": [
        "%cd '/content/Testing_Traffic_Sign_Classification'\n"
      ],
      "metadata": {
        "colab": {
          "base_uri": "https://localhost:8080/"
        },
        "id": "bs_cqV3G7dFs",
        "outputId": "6e6d0bdf-9a64-4456-9ab8-b38836212703"
      },
      "execution_count": 3,
      "outputs": [
        {
          "output_type": "stream",
          "name": "stdout",
          "text": [
            "/content/Testing_Traffic_Sign_Classification\n"
          ]
        }
      ]
    },
    {
      "cell_type": "code",
      "source": [
        "\n",
        "#Get the trained model from the source code of this project on Github\n",
        "!wget https://github.com/anuj-tahlan/Traffic-Sign-Classification/blob/492c1adb458642f4e2fe57c7532ae22e1c69ee92/TSC.h5"
      ],
      "metadata": {
        "id": "fKqg9tdG6PPf"
      },
      "execution_count": 2,
      "outputs": []
    },
    {
      "cell_type": "code",
      "source": [
        "#Download TestingImages folder which contains some images to test the model. You can also use your own image.\n",
        "#Note the image used for testing classification model should only contain a traffic sign nothing else\n",
        "!curl -LOC - https://www.dropbox.com/s/ramoqqq2q35gbct/TestingImages.zip"
      ],
      "metadata": {
        "id": "wz2Ai5qkJf2s"
      },
      "execution_count": 3,
      "outputs": []
    },
    {
      "cell_type": "code",
      "source": [
        "#Either Download Trained Model or download file from Github and upload to Google Colab , in that case do not run this line\n",
        "# Or run below line of code to download trained model from source(My dropbox Account)\n",
        "!curl -LOC - https://www.dropbox.com/s/3avgvrulenel1rp/TSC.h5"
      ],
      "metadata": {
        "id": "DM_OTMpQMicf"
      },
      "execution_count": 4,
      "outputs": []
    },
    {
      "cell_type": "code",
      "source": [
        "#Unzip the TestingImages file\n",
        "unzip = zipfile.ZipFile('TestingImages.zip')\n",
        "unzip.extractall('TestingImages')"
      ],
      "metadata": {
        "id": "hSuMQaD84b07"
      },
      "execution_count": 7,
      "outputs": []
    },
    {
      "cell_type": "code",
      "source": [
        "#Load the model\n",
        "from keras.models import load_model\n",
        "model = load_model('/content/Testing_Traffic_Sign_Classification/TSC.h5')"
      ],
      "metadata": {
        "id": "KoCBVWEiKQ5j"
      },
      "execution_count": 11,
      "outputs": []
    },
    {
      "cell_type": "code",
      "source": [
        "# Classes of trafic signs\n",
        "classes = { 0:'Speed limit (20km/h)',\n",
        "            1:'Speed limit (30km/h)', \n",
        "            2:'Speed limit (50km/h)', \n",
        "            3:'Speed limit (60km/h)', \n",
        "            4:'Speed limit (70km/h)', \n",
        "            5:'Speed limit (80km/h)', \n",
        "            6:'End of speed limit (80km/h)', \n",
        "            7:'Speed limit (100km/h)', \n",
        "            8:'Speed limit (120km/h)', \n",
        "            9:'No passing', \n",
        "            10:'No passing veh over 3.5 tons', \n",
        "            11:'Right-of-way at intersection', \n",
        "            12:'Priority road', \n",
        "            13:'Yield', \n",
        "            14:'Stop', \n",
        "            15:'No vehicles', \n",
        "            16:'Veh > 3.5 tons prohibited', \n",
        "            17:'No entry', \n",
        "            18:'General caution', \n",
        "            19:'Dangerous curve left', \n",
        "            20:'Dangerous curve right', \n",
        "            21:'Double curve', \n",
        "            22:'Bumpy road', \n",
        "            23:'Slippery road', \n",
        "            24:'Road narrows on the right', \n",
        "            25:'Road work', \n",
        "            26:'Traffic signals', \n",
        "            27:'Pedestrians', \n",
        "            28:'Children crossing', \n",
        "            29:'Bicycles crossing', \n",
        "            30:'Beware of ice/snow',\n",
        "            31:'Wild animals crossing', \n",
        "            32:'End speed + passing limits', \n",
        "            33:'Turn right ahead', \n",
        "            34:'Turn left ahead', \n",
        "            35:'Ahead only', \n",
        "            36:'Go straight or right', \n",
        "            37:'Go straight or left', \n",
        "            38:'Keep right', \n",
        "            39:'Keep left', \n",
        "            40:'Roundabout mandatory', \n",
        "            41:'End of no passing', \n",
        "            42:'End no passing veh > 3.5 tons' }"
      ],
      "metadata": {
        "id": "r78lWk0GKV7e"
      },
      "execution_count": 12,
      "outputs": []
    },
    {
      "cell_type": "code",
      "source": [
        "from PIL import Image\n",
        "import numpy as np\n",
        "import matplotlib.pyplot as plt\n",
        "def test_on_img(img):\n",
        "    data=[]\n",
        "    image = Image.open(img)\n",
        "    image = image.resize((30,30))\n",
        "    data.append(np.array(image))\n",
        "    X_test=np.array(data)\n",
        "    Y_pred = np.argmax(model.predict(X_test), axis=-1)\n",
        "    return image,Y_pred"
      ],
      "metadata": {
        "id": "9YBklBY3KZtl"
      },
      "execution_count": 13,
      "outputs": []
    },
    {
      "cell_type": "code",
      "source": [
        "#Keep changing the image path. If you are using the images from TestingImages folder then just change the image number.\n",
        "plot,prediction = test_on_img(r'/content/Testing_Traffic_Sign_Classification/TestingImages/9.jpg')\n",
        "s = [str(i) for i in prediction] \n",
        "a = int(\"\".join(s)) \n",
        "print(\"Predicted traffic sign is: \", classes[a])\n",
        "plt.imshow(plot)\n",
        "plt.show()"
      ],
      "metadata": {
        "id": "2w1nXOg4NF_T"
      },
      "execution_count": 5,
      "outputs": []
    }
  ]
}